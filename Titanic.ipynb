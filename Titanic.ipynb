{
 "cells": [
  {
   "cell_type": "code",
   "execution_count": 1,
   "source": [
    "import numpy as np\r\n",
    "import pandas as pd\r\n",
    "import matplotlib.pyplot as plt\r\n",
    "import tensorflow as tf"
   ],
   "outputs": [],
   "metadata": {}
  },
  {
   "cell_type": "code",
   "execution_count": 2,
   "source": [
    "train_data = pd.read_csv('dataset\\\\train.csv')\r\n",
    "test_data = pd.read_csv('dataset\\\\test.csv')\r\n",
    "\r\n",
    "print(len(train_data), len(test_data))\r\n",
    "train_data.head()"
   ],
   "outputs": [
    {
     "output_type": "stream",
     "name": "stdout",
     "text": [
      "891 418\n"
     ]
    },
    {
     "output_type": "execute_result",
     "data": {
      "text/plain": [
       "   PassengerId  Survived  Pclass  \\\n",
       "0            1         0       3   \n",
       "1            2         1       1   \n",
       "2            3         1       3   \n",
       "3            4         1       1   \n",
       "4            5         0       3   \n",
       "\n",
       "                                                Name     Sex   Age  SibSp  \\\n",
       "0                            Braund, Mr. Owen Harris    male  22.0      1   \n",
       "1  Cumings, Mrs. John Bradley (Florence Briggs Th...  female  38.0      1   \n",
       "2                             Heikkinen, Miss. Laina  female  26.0      0   \n",
       "3       Futrelle, Mrs. Jacques Heath (Lily May Peel)  female  35.0      1   \n",
       "4                           Allen, Mr. William Henry    male  35.0      0   \n",
       "\n",
       "   Parch            Ticket     Fare Cabin Embarked  \n",
       "0      0         A/5 21171   7.2500   NaN        S  \n",
       "1      0          PC 17599  71.2833   C85        C  \n",
       "2      0  STON/O2. 3101282   7.9250   NaN        S  \n",
       "3      0            113803  53.1000  C123        S  \n",
       "4      0            373450   8.0500   NaN        S  "
      ],
      "text/html": [
       "<div>\n",
       "<style scoped>\n",
       "    .dataframe tbody tr th:only-of-type {\n",
       "        vertical-align: middle;\n",
       "    }\n",
       "\n",
       "    .dataframe tbody tr th {\n",
       "        vertical-align: top;\n",
       "    }\n",
       "\n",
       "    .dataframe thead th {\n",
       "        text-align: right;\n",
       "    }\n",
       "</style>\n",
       "<table border=\"1\" class=\"dataframe\">\n",
       "  <thead>\n",
       "    <tr style=\"text-align: right;\">\n",
       "      <th></th>\n",
       "      <th>PassengerId</th>\n",
       "      <th>Survived</th>\n",
       "      <th>Pclass</th>\n",
       "      <th>Name</th>\n",
       "      <th>Sex</th>\n",
       "      <th>Age</th>\n",
       "      <th>SibSp</th>\n",
       "      <th>Parch</th>\n",
       "      <th>Ticket</th>\n",
       "      <th>Fare</th>\n",
       "      <th>Cabin</th>\n",
       "      <th>Embarked</th>\n",
       "    </tr>\n",
       "  </thead>\n",
       "  <tbody>\n",
       "    <tr>\n",
       "      <th>0</th>\n",
       "      <td>1</td>\n",
       "      <td>0</td>\n",
       "      <td>3</td>\n",
       "      <td>Braund, Mr. Owen Harris</td>\n",
       "      <td>male</td>\n",
       "      <td>22.0</td>\n",
       "      <td>1</td>\n",
       "      <td>0</td>\n",
       "      <td>A/5 21171</td>\n",
       "      <td>7.2500</td>\n",
       "      <td>NaN</td>\n",
       "      <td>S</td>\n",
       "    </tr>\n",
       "    <tr>\n",
       "      <th>1</th>\n",
       "      <td>2</td>\n",
       "      <td>1</td>\n",
       "      <td>1</td>\n",
       "      <td>Cumings, Mrs. John Bradley (Florence Briggs Th...</td>\n",
       "      <td>female</td>\n",
       "      <td>38.0</td>\n",
       "      <td>1</td>\n",
       "      <td>0</td>\n",
       "      <td>PC 17599</td>\n",
       "      <td>71.2833</td>\n",
       "      <td>C85</td>\n",
       "      <td>C</td>\n",
       "    </tr>\n",
       "    <tr>\n",
       "      <th>2</th>\n",
       "      <td>3</td>\n",
       "      <td>1</td>\n",
       "      <td>3</td>\n",
       "      <td>Heikkinen, Miss. Laina</td>\n",
       "      <td>female</td>\n",
       "      <td>26.0</td>\n",
       "      <td>0</td>\n",
       "      <td>0</td>\n",
       "      <td>STON/O2. 3101282</td>\n",
       "      <td>7.9250</td>\n",
       "      <td>NaN</td>\n",
       "      <td>S</td>\n",
       "    </tr>\n",
       "    <tr>\n",
       "      <th>3</th>\n",
       "      <td>4</td>\n",
       "      <td>1</td>\n",
       "      <td>1</td>\n",
       "      <td>Futrelle, Mrs. Jacques Heath (Lily May Peel)</td>\n",
       "      <td>female</td>\n",
       "      <td>35.0</td>\n",
       "      <td>1</td>\n",
       "      <td>0</td>\n",
       "      <td>113803</td>\n",
       "      <td>53.1000</td>\n",
       "      <td>C123</td>\n",
       "      <td>S</td>\n",
       "    </tr>\n",
       "    <tr>\n",
       "      <th>4</th>\n",
       "      <td>5</td>\n",
       "      <td>0</td>\n",
       "      <td>3</td>\n",
       "      <td>Allen, Mr. William Henry</td>\n",
       "      <td>male</td>\n",
       "      <td>35.0</td>\n",
       "      <td>0</td>\n",
       "      <td>0</td>\n",
       "      <td>373450</td>\n",
       "      <td>8.0500</td>\n",
       "      <td>NaN</td>\n",
       "      <td>S</td>\n",
       "    </tr>\n",
       "  </tbody>\n",
       "</table>\n",
       "</div>"
      ]
     },
     "metadata": {},
     "execution_count": 2
    }
   ],
   "metadata": {}
  },
  {
   "cell_type": "markdown",
   "source": [
    "# 打乱训练集"
   ],
   "metadata": {}
  },
  {
   "cell_type": "code",
   "execution_count": 3,
   "source": [
    "train_data = train_data.sample(frac=1)\r\n",
    "train_data.head()"
   ],
   "outputs": [
    {
     "output_type": "execute_result",
     "data": {
      "text/plain": [
       "     PassengerId  Survived  Pclass                            Name     Sex  \\\n",
       "882          883         0       3    Dahlberg, Miss. Gerda Ulrika  female   \n",
       "568          569         0       3             Doharr, Mr. Tannous    male   \n",
       "35            36         0       1  Holverson, Mr. Alexander Oskar    male   \n",
       "211          212         1       2      Cameron, Miss. Clear Annie  female   \n",
       "346          347         1       2       Smith, Miss. Marion Elsie  female   \n",
       "\n",
       "      Age  SibSp  Parch        Ticket     Fare Cabin Embarked  \n",
       "882  22.0      0      0          7552  10.5167   NaN        S  \n",
       "568   NaN      0      0          2686   7.2292   NaN        C  \n",
       "35   42.0      1      0        113789  52.0000   NaN        S  \n",
       "211  35.0      0      0  F.C.C. 13528  21.0000   NaN        S  \n",
       "346  40.0      0      0         31418  13.0000   NaN        S  "
      ],
      "text/html": [
       "<div>\n",
       "<style scoped>\n",
       "    .dataframe tbody tr th:only-of-type {\n",
       "        vertical-align: middle;\n",
       "    }\n",
       "\n",
       "    .dataframe tbody tr th {\n",
       "        vertical-align: top;\n",
       "    }\n",
       "\n",
       "    .dataframe thead th {\n",
       "        text-align: right;\n",
       "    }\n",
       "</style>\n",
       "<table border=\"1\" class=\"dataframe\">\n",
       "  <thead>\n",
       "    <tr style=\"text-align: right;\">\n",
       "      <th></th>\n",
       "      <th>PassengerId</th>\n",
       "      <th>Survived</th>\n",
       "      <th>Pclass</th>\n",
       "      <th>Name</th>\n",
       "      <th>Sex</th>\n",
       "      <th>Age</th>\n",
       "      <th>SibSp</th>\n",
       "      <th>Parch</th>\n",
       "      <th>Ticket</th>\n",
       "      <th>Fare</th>\n",
       "      <th>Cabin</th>\n",
       "      <th>Embarked</th>\n",
       "    </tr>\n",
       "  </thead>\n",
       "  <tbody>\n",
       "    <tr>\n",
       "      <th>882</th>\n",
       "      <td>883</td>\n",
       "      <td>0</td>\n",
       "      <td>3</td>\n",
       "      <td>Dahlberg, Miss. Gerda Ulrika</td>\n",
       "      <td>female</td>\n",
       "      <td>22.0</td>\n",
       "      <td>0</td>\n",
       "      <td>0</td>\n",
       "      <td>7552</td>\n",
       "      <td>10.5167</td>\n",
       "      <td>NaN</td>\n",
       "      <td>S</td>\n",
       "    </tr>\n",
       "    <tr>\n",
       "      <th>568</th>\n",
       "      <td>569</td>\n",
       "      <td>0</td>\n",
       "      <td>3</td>\n",
       "      <td>Doharr, Mr. Tannous</td>\n",
       "      <td>male</td>\n",
       "      <td>NaN</td>\n",
       "      <td>0</td>\n",
       "      <td>0</td>\n",
       "      <td>2686</td>\n",
       "      <td>7.2292</td>\n",
       "      <td>NaN</td>\n",
       "      <td>C</td>\n",
       "    </tr>\n",
       "    <tr>\n",
       "      <th>35</th>\n",
       "      <td>36</td>\n",
       "      <td>0</td>\n",
       "      <td>1</td>\n",
       "      <td>Holverson, Mr. Alexander Oskar</td>\n",
       "      <td>male</td>\n",
       "      <td>42.0</td>\n",
       "      <td>1</td>\n",
       "      <td>0</td>\n",
       "      <td>113789</td>\n",
       "      <td>52.0000</td>\n",
       "      <td>NaN</td>\n",
       "      <td>S</td>\n",
       "    </tr>\n",
       "    <tr>\n",
       "      <th>211</th>\n",
       "      <td>212</td>\n",
       "      <td>1</td>\n",
       "      <td>2</td>\n",
       "      <td>Cameron, Miss. Clear Annie</td>\n",
       "      <td>female</td>\n",
       "      <td>35.0</td>\n",
       "      <td>0</td>\n",
       "      <td>0</td>\n",
       "      <td>F.C.C. 13528</td>\n",
       "      <td>21.0000</td>\n",
       "      <td>NaN</td>\n",
       "      <td>S</td>\n",
       "    </tr>\n",
       "    <tr>\n",
       "      <th>346</th>\n",
       "      <td>347</td>\n",
       "      <td>1</td>\n",
       "      <td>2</td>\n",
       "      <td>Smith, Miss. Marion Elsie</td>\n",
       "      <td>female</td>\n",
       "      <td>40.0</td>\n",
       "      <td>0</td>\n",
       "      <td>0</td>\n",
       "      <td>31418</td>\n",
       "      <td>13.0000</td>\n",
       "      <td>NaN</td>\n",
       "      <td>S</td>\n",
       "    </tr>\n",
       "  </tbody>\n",
       "</table>\n",
       "</div>"
      ]
     },
     "metadata": {},
     "execution_count": 3
    }
   ],
   "metadata": {}
  },
  {
   "cell_type": "markdown",
   "source": [
    "# 总体数据缺省\n",
    "## 合并起来对缺省数据填充或删除"
   ],
   "metadata": {}
  },
  {
   "cell_type": "markdown",
   "source": [
    "<table><thead><tr><th>变量</th><th>定义</th><th>键值</th></tr></thead><tbody><tr><td>survival</td><td>存活</td><td>0=No,1=Yes</td></tr><tr><td>pclass</td><td>票的类别</td><td>1=1st,2=2nd,3=3rd</td></tr><tr><td>sex</td><td>性别</td><td></td></tr><tr><td>Age</td><td>年龄</td><td></td></tr><tr><td>sibsp</td><td>在船上有几个兄弟/配偶</td><td></td></tr><tr><td>parch</td><td>在船上有几个双亲/孩子</td><td></td></tr><tr><td>ticket</td><td>票编号</td><td></td></tr><tr><td>fare</td><td>乘客票价</td><td></td></tr><tr><td>cabin</td><td>客舱号码</td><td></td></tr><tr><td>embarked</td><td>登船港口</td><td>C = Cherbourg, Q = Queenstown, S = Southampton</td></tr></tbody></table>"
   ],
   "metadata": {}
  },
  {
   "cell_type": "code",
   "execution_count": 4,
   "source": [
    "all_data=pd.concat([train_data,test_data],ignore_index=True)\r\n",
    "all_data.info()"
   ],
   "outputs": [
    {
     "output_type": "stream",
     "name": "stdout",
     "text": [
      "<class 'pandas.core.frame.DataFrame'>\n",
      "RangeIndex: 1309 entries, 0 to 1308\n",
      "Data columns (total 12 columns):\n",
      " #   Column       Non-Null Count  Dtype  \n",
      "---  ------       --------------  -----  \n",
      " 0   PassengerId  1309 non-null   int64  \n",
      " 1   Survived     891 non-null    float64\n",
      " 2   Pclass       1309 non-null   int64  \n",
      " 3   Name         1309 non-null   object \n",
      " 4   Sex          1309 non-null   object \n",
      " 5   Age          1046 non-null   float64\n",
      " 6   SibSp        1309 non-null   int64  \n",
      " 7   Parch        1309 non-null   int64  \n",
      " 8   Ticket       1309 non-null   object \n",
      " 9   Fare         1308 non-null   float64\n",
      " 10  Cabin        295 non-null    object \n",
      " 11  Embarked     1307 non-null   object \n",
      "dtypes: float64(3), int64(4), object(5)\n",
      "memory usage: 122.8+ KB\n"
     ]
    }
   ],
   "metadata": {
    "scrolled": true
   }
  },
  {
   "cell_type": "markdown",
   "source": [
    "## 处理数据"
   ],
   "metadata": {}
  },
  {
   "cell_type": "code",
   "execution_count": 5,
   "source": [
    "# 对缺省的年龄进行平均数填充\r\n",
    "all_data['Age'] = all_data['Age'].fillna(all_data['Age'].mean())\r\n",
    "# 对缺省的登船港口进行众数填充\r\n",
    "all_data['Embarked'] = all_data['Embarked'].fillna(all_data['Embarked'].mode())\r\n",
    "# 性别转换为1和0\r\n",
    "all_data['Sex']=[1 if x=='male' else 0 for x in all_data.Sex]\r\n",
    "# 将SibSp,Parch 用有无代替数量以减少离散\r\n",
    "all_data['SibSp']=[0 if x==0 else 1 for x in all_data.Sex]\r\n",
    "all_data['Parch']=[0 if x==0 else 1 for x in all_data.Sex]\r\n",
    "# 丢失票价用同等票类型的平均数进行填充\r\n",
    "all_data['Fare'] = all_data['Fare'].fillna(all_data.pivot_table(index='Pclass', values='Fare', aggfunc=np.mean).loc[all_data[all_data['Fare'].isnull()]['Pclass'],'Fare'])\r\n",
    "# 将上船码头与票价以独热编码鵆\r\n",
    "all_data['p1']=np.array(all_data['Pclass']==1).astype(np.int32)\r\n",
    "all_data['p2']=np.array(all_data['Pclass']==2).astype(np.int32)\r\n",
    "all_data['p3']=np.array(all_data['Pclass']==3).astype(np.int32)\r\n",
    "all_data['e1']=np.array(all_data['Embarked']=='S').astype(np.int32)\r\n",
    "all_data['e2']=np.array(all_data['Embarked']=='C').astype(np.int32)\r\n",
    "all_data['e3']=np.array(all_data['Embarked']=='Q').astype(np.int32)\r\n",
    "#对票价和年龄归一化\r\n",
    "all_data['Age'] = (all_data['Age']-all_data['Age'].min())/(all_data['Age'].max()-all_data['Age'].min())\r\n",
    "all_data['Fare'] = (all_data['Fare']-all_data['Fare'].min())/(all_data['Fare'].max()-all_data['Fare'].min())"
   ],
   "outputs": [],
   "metadata": {}
  },
  {
   "cell_type": "markdown",
   "source": [
    "## 数据选取"
   ],
   "metadata": {}
  },
  {
   "cell_type": "code",
   "execution_count": 6,
   "source": [
    "all_data_selected = all_data[['p1', 'p2', 'p3', 'e1', 'e2', 'e3', 'Sex', 'Fare', 'Age']].values#, 'SibSp', 'Parch'\r\n",
    "train_data = all_data_selected[:len(train_data)]\r\n",
    "test_data = all_data_selected[len(train_data):]\r\n",
    "train_label1 = all_data[['Survived']].values\r\n",
    "train_lable = train_label1[:len(train_data)].reshape(-1,1)\r\n",
    "\r\n",
    "train_data[0:5,:]"
   ],
   "outputs": [
    {
     "output_type": "execute_result",
     "data": {
      "text/plain": [
       "array([[0.        , 0.        , 1.        , 1.        , 0.        ,\n",
       "        0.        , 0.        , 0.02052723, 0.27345609],\n",
       "       [0.        , 0.        , 1.        , 0.        , 1.        ,\n",
       "        0.        , 1.        , 0.01411046, 0.3721801 ],\n",
       "       [1.        , 0.        , 0.        , 1.        , 0.        ,\n",
       "        0.        , 1.        , 0.10149724, 0.52398848],\n",
       "       [0.        , 1.        , 0.        , 1.        , 0.        ,\n",
       "        0.        , 0.        , 0.04098927, 0.43630214],\n",
       "       [0.        , 1.        , 0.        , 1.        , 0.        ,\n",
       "        0.        , 0.        , 0.02537431, 0.49893524]])"
      ]
     },
     "metadata": {},
     "execution_count": 6
    }
   ],
   "metadata": {}
  },
  {
   "cell_type": "code",
   "execution_count": 7,
   "source": [
    "train_x = tf.cast(train_data, tf.float32)\r\n",
    "train_y = tf.cast(train_lable, tf.int16)\r\n",
    "test_x = tf.cast(test_data, tf.float32)\r\n",
    "print(train_x.shape, train_y.shape)"
   ],
   "outputs": [
    {
     "output_type": "stream",
     "name": "stdout",
     "text": [
      "(891, 9) (891, 1)\n"
     ]
    }
   ],
   "metadata": {}
  },
  {
   "cell_type": "markdown",
   "source": [
    "## 模型配置与训练"
   ],
   "metadata": {}
  },
  {
   "cell_type": "code",
   "execution_count": 8,
   "source": [
    "model=tf.keras.Sequential()\r\n",
    "try:\r\n",
    "    model = tf.keras.models.load_model(\"Titanic.h5\")\r\n",
    "    model.summary()\r\n",
    "except:\r\n",
    "    model.add(tf.keras.layers.Dense(16,activation=\"relu\",kernel_regularizer = tf.keras.regularizers.l2()))#input_shape=(1,9)添加隐含层，隐含层是全连接层，128个结点,激活函数使用relu函数\r\n",
    "    model.add(tf.keras.layers.Dense(8,activation=\"relu\"))\r\n",
    "    model.add(tf.keras.layers.Dense(1,activation=\"sigmoid\"))#添加输出层，输出层使全连接层，激活函数是sigmoid函数\r\n",
    "    \r\n",
    "    #配置训练方法\r\n",
    "    #优化器使用adam,损失函数使用二值交叉熵损失函数，准确率使用稀疏分类准确率函二值\r\n",
    "    model.compile(optimizer=tf.keras.optimizers.Adam(lr = 0.07),\r\n",
    "                loss='binary_crossentropy',\r\n",
    "                metrics=['binary_accuracy'])\r\n",
    "    \r\n",
    "    # #训练模型\r\n",
    "    # #使用训练集中的数据训练，从中划分20%作为测试数据,用在每轮训练后评估模型的性能，每个小批量使用32条数据，训练50轮\r\n",
    "    history = model.fit(train_x,train_y,\r\n",
    "                batch_size=32,\r\n",
    "                epochs=60,\r\n",
    "                validation_split=0.2)\r\n",
    "    model.summary()\r\n",
    "    model.save(\"Titanic.h5\", overwrite=True, save_format=None)"
   ],
   "outputs": [
    {
     "output_type": "stream",
     "name": "stdout",
     "text": [
      "Epoch 1/60\n",
      "23/23 [==============================] - 2s 46ms/step - loss: 0.6572 - binary_accuracy: 0.6516 - val_loss: 0.5127 - val_binary_accuracy: 0.8045\n",
      "Epoch 2/60\n",
      "23/23 [==============================] - 0s 7ms/step - loss: 0.5755 - binary_accuracy: 0.7653 - val_loss: 0.5096 - val_binary_accuracy: 0.8101\n",
      "Epoch 3/60\n",
      "23/23 [==============================] - 0s 6ms/step - loss: 0.5329 - binary_accuracy: 0.7950 - val_loss: 0.4760 - val_binary_accuracy: 0.8101\n",
      "Epoch 4/60\n",
      "23/23 [==============================] - 0s 7ms/step - loss: 0.4905 - binary_accuracy: 0.7873 - val_loss: 0.5239 - val_binary_accuracy: 0.8045\n",
      "Epoch 5/60\n",
      "23/23 [==============================] - 0s 7ms/step - loss: 0.4977 - binary_accuracy: 0.8053 - val_loss: 0.4804 - val_binary_accuracy: 0.8101\n",
      "Epoch 6/60\n",
      "23/23 [==============================] - 0s 7ms/step - loss: 0.4874 - binary_accuracy: 0.8013 - val_loss: 0.4880 - val_binary_accuracy: 0.8045\n",
      "Epoch 7/60\n",
      "23/23 [==============================] - 0s 6ms/step - loss: 0.4855 - binary_accuracy: 0.8014 - val_loss: 0.4698 - val_binary_accuracy: 0.7933\n",
      "Epoch 8/60\n",
      "23/23 [==============================] - 0s 6ms/step - loss: 0.4985 - binary_accuracy: 0.8015 - val_loss: 0.4595 - val_binary_accuracy: 0.7989\n",
      "Epoch 9/60\n",
      "23/23 [==============================] - 0s 7ms/step - loss: 0.4720 - binary_accuracy: 0.7949 - val_loss: 0.4923 - val_binary_accuracy: 0.7989\n",
      "Epoch 10/60\n",
      "23/23 [==============================] - 0s 7ms/step - loss: 0.5137 - binary_accuracy: 0.7955 - val_loss: 0.4798 - val_binary_accuracy: 0.8045\n",
      "Epoch 11/60\n",
      "23/23 [==============================] - 0s 7ms/step - loss: 0.5243 - binary_accuracy: 0.7728 - val_loss: 0.4830 - val_binary_accuracy: 0.7877\n",
      "Epoch 12/60\n",
      "23/23 [==============================] - 0s 7ms/step - loss: 0.4612 - binary_accuracy: 0.8014 - val_loss: 0.4804 - val_binary_accuracy: 0.8101\n",
      "Epoch 13/60\n",
      "23/23 [==============================] - 0s 7ms/step - loss: 0.4632 - binary_accuracy: 0.8163 - val_loss: 0.5068 - val_binary_accuracy: 0.7765\n",
      "Epoch 14/60\n",
      "23/23 [==============================] - 0s 10ms/step - loss: 0.4824 - binary_accuracy: 0.8045 - val_loss: 0.4965 - val_binary_accuracy: 0.7877\n",
      "Epoch 15/60\n",
      "23/23 [==============================] - 0s 7ms/step - loss: 0.4676 - binary_accuracy: 0.7947 - val_loss: 0.4939 - val_binary_accuracy: 0.8045\n",
      "Epoch 16/60\n",
      "23/23 [==============================] - 0s 6ms/step - loss: 0.4991 - binary_accuracy: 0.7984 - val_loss: 0.4746 - val_binary_accuracy: 0.8045\n",
      "Epoch 17/60\n",
      "23/23 [==============================] - 0s 6ms/step - loss: 0.4653 - binary_accuracy: 0.8099 - val_loss: 0.5367 - val_binary_accuracy: 0.7765\n",
      "Epoch 18/60\n",
      "23/23 [==============================] - 0s 7ms/step - loss: 0.5560 - binary_accuracy: 0.7619 - val_loss: 0.4881 - val_binary_accuracy: 0.7933\n",
      "Epoch 19/60\n",
      "23/23 [==============================] - 0s 7ms/step - loss: 0.4831 - binary_accuracy: 0.8072 - val_loss: 0.4921 - val_binary_accuracy: 0.7877\n",
      "Epoch 20/60\n",
      "23/23 [==============================] - 0s 7ms/step - loss: 0.4963 - binary_accuracy: 0.7795 - val_loss: 0.4626 - val_binary_accuracy: 0.7989\n",
      "Epoch 21/60\n",
      "23/23 [==============================] - 0s 6ms/step - loss: 0.4710 - binary_accuracy: 0.7985 - val_loss: 0.4645 - val_binary_accuracy: 0.7989\n",
      "Epoch 22/60\n",
      "23/23 [==============================] - 0s 6ms/step - loss: 0.5250 - binary_accuracy: 0.7593 - val_loss: 0.5046 - val_binary_accuracy: 0.7933\n",
      "Epoch 23/60\n",
      "23/23 [==============================] - 0s 6ms/step - loss: 0.4925 - binary_accuracy: 0.7697 - val_loss: 0.5046 - val_binary_accuracy: 0.8045\n",
      "Epoch 24/60\n",
      "23/23 [==============================] - 0s 7ms/step - loss: 0.5215 - binary_accuracy: 0.8060 - val_loss: 0.4720 - val_binary_accuracy: 0.7989\n",
      "Epoch 25/60\n",
      "23/23 [==============================] - 0s 7ms/step - loss: 0.5046 - binary_accuracy: 0.7788 - val_loss: 0.4782 - val_binary_accuracy: 0.8156\n",
      "Epoch 26/60\n",
      "23/23 [==============================] - 0s 7ms/step - loss: 0.4875 - binary_accuracy: 0.7981 - val_loss: 0.4633 - val_binary_accuracy: 0.8101\n",
      "Epoch 27/60\n",
      "23/23 [==============================] - 0s 6ms/step - loss: 0.4506 - binary_accuracy: 0.8066 - val_loss: 0.4945 - val_binary_accuracy: 0.8045\n",
      "Epoch 28/60\n",
      "23/23 [==============================] - 0s 7ms/step - loss: 0.4954 - binary_accuracy: 0.7996 - val_loss: 0.4632 - val_binary_accuracy: 0.8045\n",
      "Epoch 29/60\n",
      "23/23 [==============================] - 0s 7ms/step - loss: 0.5015 - binary_accuracy: 0.7957 - val_loss: 0.4626 - val_binary_accuracy: 0.8156\n",
      "Epoch 30/60\n",
      "23/23 [==============================] - 0s 7ms/step - loss: 0.4371 - binary_accuracy: 0.8214 - val_loss: 0.4912 - val_binary_accuracy: 0.8045\n",
      "Epoch 31/60\n",
      "23/23 [==============================] - 0s 6ms/step - loss: 0.4997 - binary_accuracy: 0.8070 - val_loss: 0.4712 - val_binary_accuracy: 0.7989\n",
      "Epoch 32/60\n",
      "23/23 [==============================] - 0s 7ms/step - loss: 0.4823 - binary_accuracy: 0.7830 - val_loss: 0.4536 - val_binary_accuracy: 0.8101\n",
      "Epoch 33/60\n",
      "23/23 [==============================] - 0s 7ms/step - loss: 0.4635 - binary_accuracy: 0.8050 - val_loss: 0.4739 - val_binary_accuracy: 0.8212\n",
      "Epoch 34/60\n",
      "23/23 [==============================] - 0s 7ms/step - loss: 0.4660 - binary_accuracy: 0.8076 - val_loss: 0.4661 - val_binary_accuracy: 0.7989\n",
      "Epoch 35/60\n",
      "23/23 [==============================] - 0s 7ms/step - loss: 0.4518 - binary_accuracy: 0.7977 - val_loss: 0.4990 - val_binary_accuracy: 0.8101\n",
      "Epoch 36/60\n",
      "23/23 [==============================] - 0s 7ms/step - loss: 0.5017 - binary_accuracy: 0.8100 - val_loss: 0.4763 - val_binary_accuracy: 0.7877\n",
      "Epoch 37/60\n",
      "23/23 [==============================] - 0s 6ms/step - loss: 0.4720 - binary_accuracy: 0.8239 - val_loss: 0.4682 - val_binary_accuracy: 0.8101\n",
      "Epoch 38/60\n",
      "23/23 [==============================] - 0s 6ms/step - loss: 0.4611 - binary_accuracy: 0.8247 - val_loss: 0.4740 - val_binary_accuracy: 0.8045\n",
      "Epoch 39/60\n",
      "23/23 [==============================] - 0s 6ms/step - loss: 0.4819 - binary_accuracy: 0.7977 - val_loss: 0.4650 - val_binary_accuracy: 0.7989\n",
      "Epoch 40/60\n",
      "23/23 [==============================] - 0s 6ms/step - loss: 0.4580 - binary_accuracy: 0.8010 - val_loss: 0.4781 - val_binary_accuracy: 0.7877\n",
      "Epoch 41/60\n",
      "23/23 [==============================] - 0s 6ms/step - loss: 0.5039 - binary_accuracy: 0.7742 - val_loss: 0.4800 - val_binary_accuracy: 0.8045\n",
      "Epoch 42/60\n",
      "23/23 [==============================] - 0s 7ms/step - loss: 0.4637 - binary_accuracy: 0.8137 - val_loss: 0.4608 - val_binary_accuracy: 0.8045\n",
      "Epoch 43/60\n",
      "23/23 [==============================] - 0s 6ms/step - loss: 0.4755 - binary_accuracy: 0.7879 - val_loss: 0.4475 - val_binary_accuracy: 0.8045\n",
      "Epoch 44/60\n",
      "23/23 [==============================] - 0s 6ms/step - loss: 0.4979 - binary_accuracy: 0.7690 - val_loss: 0.4619 - val_binary_accuracy: 0.8101\n",
      "Epoch 45/60\n",
      "23/23 [==============================] - 0s 6ms/step - loss: 0.4610 - binary_accuracy: 0.8041 - val_loss: 0.4763 - val_binary_accuracy: 0.8156\n",
      "Epoch 46/60\n",
      "23/23 [==============================] - 0s 6ms/step - loss: 0.4965 - binary_accuracy: 0.8080 - val_loss: 0.5072 - val_binary_accuracy: 0.7765\n",
      "Epoch 47/60\n",
      "23/23 [==============================] - 0s 6ms/step - loss: 0.5597 - binary_accuracy: 0.7517 - val_loss: 0.4739 - val_binary_accuracy: 0.7989\n",
      "Epoch 48/60\n",
      "23/23 [==============================] - 0s 6ms/step - loss: 0.4957 - binary_accuracy: 0.7976 - val_loss: 0.4744 - val_binary_accuracy: 0.7933\n",
      "Epoch 49/60\n",
      "23/23 [==============================] - 0s 6ms/step - loss: 0.4632 - binary_accuracy: 0.8113 - val_loss: 0.4645 - val_binary_accuracy: 0.8045\n",
      "Epoch 50/60\n",
      "23/23 [==============================] - 0s 6ms/step - loss: 0.4358 - binary_accuracy: 0.8259 - val_loss: 0.5332 - val_binary_accuracy: 0.7877\n",
      "Epoch 51/60\n",
      "23/23 [==============================] - 0s 6ms/step - loss: 0.5262 - binary_accuracy: 0.7589 - val_loss: 0.4734 - val_binary_accuracy: 0.7821\n",
      "Epoch 52/60\n",
      "23/23 [==============================] - 0s 6ms/step - loss: 0.4488 - binary_accuracy: 0.8031 - val_loss: 0.4984 - val_binary_accuracy: 0.8045\n",
      "Epoch 53/60\n",
      "23/23 [==============================] - 0s 6ms/step - loss: 0.4955 - binary_accuracy: 0.7854 - val_loss: 0.5163 - val_binary_accuracy: 0.7877\n"
     ]
    },
    {
     "output_type": "stream",
     "name": "stdout",
     "text": [
      "Epoch 54/60\n",
      "23/23 [==============================] - 0s 6ms/step - loss: 0.5196 - binary_accuracy: 0.7652 - val_loss: 0.4999 - val_binary_accuracy: 0.7877\n",
      "Epoch 55/60\n",
      "23/23 [==============================] - 0s 6ms/step - loss: 0.5786 - binary_accuracy: 0.7633 - val_loss: 0.5107 - val_binary_accuracy: 0.7877\n",
      "Epoch 56/60\n",
      "23/23 [==============================] - 0s 6ms/step - loss: 0.5229 - binary_accuracy: 0.7721 - val_loss: 0.4679 - val_binary_accuracy: 0.8156\n",
      "Epoch 57/60\n",
      "23/23 [==============================] - 0s 6ms/step - loss: 0.4780 - binary_accuracy: 0.8111 - val_loss: 0.5396 - val_binary_accuracy: 0.7709\n",
      "Epoch 58/60\n",
      "23/23 [==============================] - 0s 6ms/step - loss: 0.4708 - binary_accuracy: 0.7908 - val_loss: 0.4791 - val_binary_accuracy: 0.8101\n",
      "Epoch 59/60\n",
      "23/23 [==============================] - 0s 6ms/step - loss: 0.4723 - binary_accuracy: 0.7982 - val_loss: 0.4669 - val_binary_accuracy: 0.7933\n",
      "Epoch 60/60\n",
      "23/23 [==============================] - 0s 6ms/step - loss: 0.4838 - binary_accuracy: 0.7895 - val_loss: 0.4524 - val_binary_accuracy: 0.8101\n",
      "Model: \"sequential\"\n",
      "_________________________________________________________________\n",
      "Layer (type)                 Output Shape              Param #   \n",
      "=================================================================\n",
      "dense (Dense)                (None, 16)                160       \n",
      "_________________________________________________________________\n",
      "dense_1 (Dense)              (None, 8)                 136       \n",
      "_________________________________________________________________\n",
      "dense_2 (Dense)              (None, 1)                 9         \n",
      "=================================================================\n",
      "Total params: 305\n",
      "Trainable params: 305\n",
      "Non-trainable params: 0\n",
      "_________________________________________________________________\n"
     ]
    }
   ],
   "metadata": {}
  },
  {
   "cell_type": "code",
   "execution_count": 9,
   "source": [
    "model.evaluate(train_x,train_y)"
   ],
   "outputs": [
    {
     "output_type": "stream",
     "name": "stdout",
     "text": [
      "28/28 [==============================] - 0s 3ms/step - loss: 0.4559 - binary_accuracy: 0.8092\n"
     ]
    },
    {
     "output_type": "execute_result",
     "data": {
      "text/plain": [
       "[0.45588964223861694, 0.8092031478881836]"
      ]
     },
     "metadata": {},
     "execution_count": 9
    }
   ],
   "metadata": {}
  },
  {
   "cell_type": "markdown",
   "source": [
    "## 可视化"
   ],
   "metadata": {}
  },
  {
   "cell_type": "code",
   "execution_count": 10,
   "source": [
    "#accuracy的历史\n",
    "plt.plot(history.history['binary_accuracy'])\n",
    "plt.plot(history.history['val_binary_accuracy'])\n",
    "plt.title('model accuracy')\n",
    "plt.xlabel('epoch')\n",
    "plt.ylabel('accuracy')\n",
    "plt.legend(['train', 'validation'], loc='upper left')\n",
    "plt.ylim((0, 1))\n",
    "plt.show()\n",
    " \n",
    "#loss的历史\n",
    "plt.plot(history.history['loss'])\n",
    "plt.plot(history.history['val_loss'])\n",
    "plt.title('model loss')\n",
    "plt.xlabel('epoch')\n",
    "plt.ylabel('loss')\n",
    "plt.legend(['train', 'validation'], loc='upper left')\n",
    "plt.ylim((0, 1))\n",
    "plt.show()"
   ],
   "outputs": [
    {
     "output_type": "display_data",
     "data": {
      "text/plain": [
       "<Figure size 432x288 with 1 Axes>"
      ],
      "image/png": "[encoded data removed]"
     },
     "metadata": {
      "needs_background": "light"
     }
    },
    {
     "output_type": "display_data",
     "data": {
      "text/plain": [
       "<Figure size 432x288 with 1 Axes>"
      ],
      "image/png": "[encoded data removed]"
     },
     "metadata": {
      "needs_background": "light"
     }
    }
   ],
   "metadata": {}
  },
  {
   "cell_type": "markdown",
   "source": [
    "## 测试结果评价"
   ],
   "metadata": {}
  },
  {
   "cell_type": "code",
   "execution_count": 11,
   "source": [
    "test_y = pd.read_csv('gender_submission.csv')\n",
    "test_y = np.array(test_y['Survived'])\n",
    "model.evaluate(test_x,test_y)"
   ],
   "outputs": [
    {
     "output_type": "stream",
     "name": "stdout",
     "text": [
      "14/14 [==============================] - 0s 3ms/step - loss: 0.2923 - binary_accuracy: 0.8900\n"
     ]
    },
    {
     "output_type": "execute_result",
     "data": {
      "text/plain": [
       "[0.2923037111759186, 0.8899521827697754]"
      ]
     },
     "metadata": {},
     "execution_count": 11
    }
   ],
   "metadata": {
    "scrolled": true
   }
  },
  {
   "cell_type": "markdown",
   "source": [
    "## 保存数据\n",
    "* 保存预测生存状况\n",
    "* 保存预测生存概率"
   ],
   "metadata": {}
  },
  {
   "cell_type": "code",
   "execution_count": 12,
   "source": [
    "pred = model.predict(test_x)\n",
    "result = pd.DataFrame({'PassengerId':np.arange(892,892+418), 'Survived':tf.where(pred>0.5,1,0).numpy().reshape(-1)})\n",
    "result.to_csv(\"titanic_survived_predictions.csv\", index=False)"
   ],
   "outputs": [],
   "metadata": {}
  },
  {
   "cell_type": "code",
   "execution_count": 13,
   "source": [
    "result = pd.DataFrame({'PassengerId':np.arange(892,892+418), 'Survived':pred.reshape(-1)})\n",
    "result.to_csv(\"titanic_psurvived_predictions.csv\", index=False)"
   ],
   "outputs": [],
   "metadata": {}
  }
 ],
 "metadata": {
  "kernelspec": {
   "display_name": "Python 3",
   "language": "python",
   "name": "python3"
  },
  "language_info": {
   "codemirror_mode": {
    "name": "ipython",
    "version": 3
   },
   "file_extension": ".py",
   "mimetype": "text/x-python",
   "name": "python",
   "nbconvert_exporter": "python",
   "pygments_lexer": "ipython3",
   "version": "3.8.0"
  }
 },
 "nbformat": 4,
 "nbformat_minor": 5
}